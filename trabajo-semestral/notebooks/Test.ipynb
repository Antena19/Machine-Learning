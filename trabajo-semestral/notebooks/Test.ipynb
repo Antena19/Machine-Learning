{
 "cells": [
  {
   "cell_type": "code",
   "execution_count": 1,
   "id": "1ca15b40-eae4-45ad-bafb-47cfe1ffd088",
   "metadata": {},
   "outputs": [
    {
     "data": {
      "text/html": [
       "<pre style=\"white-space:pre;overflow-x:auto;line-height:normal;font-family:Menlo,'DejaVu Sans Mono',consolas,'Courier New',monospace\"><span style=\"color: #7fbfbf; text-decoration-color: #7fbfbf\">[09/04/25 21:43:06] </span><span style=\"color: #000080; text-decoration-color: #000080\">INFO    </span> Using                                                                  <a href=\"file://C:\\Machine-Learning\\Machine-Learning\\trabajo-semestral\\.venv\\Lib\\site-packages\\kedro\\framework\\project\\__init__.py\" target=\"_blank\"><span style=\"color: #7f7f7f; text-decoration-color: #7f7f7f\">__init__.py</span></a><span style=\"color: #7f7f7f; text-decoration-color: #7f7f7f\">:</span><a href=\"file://C:\\Machine-Learning\\Machine-Learning\\trabajo-semestral\\.venv\\Lib\\site-packages\\kedro\\framework\\project\\__init__.py#270\" target=\"_blank\"><span style=\"color: #7f7f7f; text-decoration-color: #7f7f7f\">270</span></a>\n",
       "<span style=\"color: #7fbfbf; text-decoration-color: #7fbfbf\">                    </span>         <span style=\"color: #008000; text-decoration-color: #008000\">'C:\\Machine-Learning\\Machine-Learning\\trabajo-semestral\\.venv\\Lib\\site</span> <span style=\"color: #7f7f7f; text-decoration-color: #7f7f7f\">               </span>\n",
       "<span style=\"color: #7fbfbf; text-decoration-color: #7fbfbf\">                    </span>         <span style=\"color: #008000; text-decoration-color: #008000\">-packages\\kedro\\framework\\project\\rich_logging.yml'</span> as logging         <span style=\"color: #7f7f7f; text-decoration-color: #7f7f7f\">               </span>\n",
       "<span style=\"color: #7fbfbf; text-decoration-color: #7fbfbf\">                    </span>         configuration.                                                         <span style=\"color: #7f7f7f; text-decoration-color: #7f7f7f\">               </span>\n",
       "</pre>\n"
      ],
      "text/plain": [
       "\u001b[2;36m[09/04/25 21:43:06]\u001b[0m\u001b[2;36m \u001b[0m\u001b[34mINFO    \u001b[0m Using                                                                  \u001b]8;id=769088;file://C:\\Machine-Learning\\Machine-Learning\\trabajo-semestral\\.venv\\Lib\\site-packages\\kedro\\framework\\project\\__init__.py\u001b\\\u001b[2m__init__.py\u001b[0m\u001b]8;;\u001b\\\u001b[2m:\u001b[0m\u001b]8;id=458356;file://C:\\Machine-Learning\\Machine-Learning\\trabajo-semestral\\.venv\\Lib\\site-packages\\kedro\\framework\\project\\__init__.py#270\u001b\\\u001b[2m270\u001b[0m\u001b]8;;\u001b\\\n",
       "\u001b[2;36m                    \u001b[0m         \u001b[32m'C:\\Machine-Learning\\Machine-Learning\\trabajo-semestral\\.venv\\Lib\\site\u001b[0m \u001b[2m               \u001b[0m\n",
       "\u001b[2;36m                    \u001b[0m         \u001b[32m-packages\\kedro\\framework\\project\\rich_logging.yml'\u001b[0m as logging         \u001b[2m               \u001b[0m\n",
       "\u001b[2;36m                    \u001b[0m         configuration.                                                         \u001b[2m               \u001b[0m\n"
      ]
     },
     "metadata": {},
     "output_type": "display_data"
    },
    {
     "data": {
      "text/html": [
       "<pre style=\"white-space:pre;overflow-x:auto;line-height:normal;font-family:Menlo,'DejaVu Sans Mono',consolas,'Courier New',monospace\"><span style=\"color: #7fbfbf; text-decoration-color: #7fbfbf\">                    </span><span style=\"color: #000080; text-decoration-color: #000080\">INFO    </span> Registered line magic <span style=\"color: #008000; text-decoration-color: #008000\">'%reload_kedro'</span>                                   <a href=\"file://C:\\Machine-Learning\\Machine-Learning\\trabajo-semestral\\.venv\\Lib\\site-packages\\kedro\\ipython\\__init__.py\" target=\"_blank\"><span style=\"color: #7f7f7f; text-decoration-color: #7f7f7f\">__init__.py</span></a><span style=\"color: #7f7f7f; text-decoration-color: #7f7f7f\">:</span><a href=\"file://C:\\Machine-Learning\\Machine-Learning\\trabajo-semestral\\.venv\\Lib\\site-packages\\kedro\\ipython\\__init__.py#63\" target=\"_blank\"><span style=\"color: #7f7f7f; text-decoration-color: #7f7f7f\">63</span></a>\n",
       "</pre>\n"
      ],
      "text/plain": [
       "\u001b[2;36m                   \u001b[0m\u001b[2;36m \u001b[0m\u001b[34mINFO    \u001b[0m Registered line magic \u001b[32m'%reload_kedro'\u001b[0m                                   \u001b]8;id=573855;file://C:\\Machine-Learning\\Machine-Learning\\trabajo-semestral\\.venv\\Lib\\site-packages\\kedro\\ipython\\__init__.py\u001b\\\u001b[2m__init__.py\u001b[0m\u001b]8;;\u001b\\\u001b[2m:\u001b[0m\u001b]8;id=393959;file://C:\\Machine-Learning\\Machine-Learning\\trabajo-semestral\\.venv\\Lib\\site-packages\\kedro\\ipython\\__init__.py#63\u001b\\\u001b[2m63\u001b[0m\u001b]8;;\u001b\\\n"
      ]
     },
     "metadata": {},
     "output_type": "display_data"
    },
    {
     "data": {
      "text/html": [
       "<pre style=\"white-space:pre;overflow-x:auto;line-height:normal;font-family:Menlo,'DejaVu Sans Mono',consolas,'Courier New',monospace\"><span style=\"color: #7fbfbf; text-decoration-color: #7fbfbf\">                    </span><span style=\"color: #000080; text-decoration-color: #000080\">INFO    </span> Registered line magic <span style=\"color: #008000; text-decoration-color: #008000\">'%load_node'</span>                                      <a href=\"file://C:\\Machine-Learning\\Machine-Learning\\trabajo-semestral\\.venv\\Lib\\site-packages\\kedro\\ipython\\__init__.py\" target=\"_blank\"><span style=\"color: #7f7f7f; text-decoration-color: #7f7f7f\">__init__.py</span></a><span style=\"color: #7f7f7f; text-decoration-color: #7f7f7f\">:</span><a href=\"file://C:\\Machine-Learning\\Machine-Learning\\trabajo-semestral\\.venv\\Lib\\site-packages\\kedro\\ipython\\__init__.py#65\" target=\"_blank\"><span style=\"color: #7f7f7f; text-decoration-color: #7f7f7f\">65</span></a>\n",
       "</pre>\n"
      ],
      "text/plain": [
       "\u001b[2;36m                   \u001b[0m\u001b[2;36m \u001b[0m\u001b[34mINFO    \u001b[0m Registered line magic \u001b[32m'%load_node'\u001b[0m                                      \u001b]8;id=610643;file://C:\\Machine-Learning\\Machine-Learning\\trabajo-semestral\\.venv\\Lib\\site-packages\\kedro\\ipython\\__init__.py\u001b\\\u001b[2m__init__.py\u001b[0m\u001b]8;;\u001b\\\u001b[2m:\u001b[0m\u001b]8;id=575625;file://C:\\Machine-Learning\\Machine-Learning\\trabajo-semestral\\.venv\\Lib\\site-packages\\kedro\\ipython\\__init__.py#65\u001b\\\u001b[2m65\u001b[0m\u001b]8;;\u001b\\\n"
      ]
     },
     "metadata": {},
     "output_type": "display_data"
    },
    {
     "data": {
      "text/html": [
       "<pre style=\"white-space:pre;overflow-x:auto;line-height:normal;font-family:Menlo,'DejaVu Sans Mono',consolas,'Courier New',monospace\"><span style=\"color: #7fbfbf; text-decoration-color: #7fbfbf\">                    </span><span style=\"color: #000080; text-decoration-color: #000080\">INFO    </span> Resolved project path as:                                              <a href=\"file://C:\\Machine-Learning\\Machine-Learning\\trabajo-semestral\\.venv\\Lib\\site-packages\\kedro\\ipython\\__init__.py\" target=\"_blank\"><span style=\"color: #7f7f7f; text-decoration-color: #7f7f7f\">__init__.py</span></a><span style=\"color: #7f7f7f; text-decoration-color: #7f7f7f\">:</span><a href=\"file://C:\\Machine-Learning\\Machine-Learning\\trabajo-semestral\\.venv\\Lib\\site-packages\\kedro\\ipython\\__init__.py#180\" target=\"_blank\"><span style=\"color: #7f7f7f; text-decoration-color: #7f7f7f\">180</span></a>\n",
       "<span style=\"color: #7fbfbf; text-decoration-color: #7fbfbf\">                    </span>         C:\\Machine-Learning\\Machine-Learning\\trabajo-semestral.                <span style=\"color: #7f7f7f; text-decoration-color: #7f7f7f\">               </span>\n",
       "<span style=\"color: #7fbfbf; text-decoration-color: #7fbfbf\">                    </span>         To set a different path, run <span style=\"color: #008000; text-decoration-color: #008000\">'%reload_kedro &lt;project_root&gt;'</span>            <span style=\"color: #7f7f7f; text-decoration-color: #7f7f7f\">               </span>\n",
       "</pre>\n"
      ],
      "text/plain": [
       "\u001b[2;36m                   \u001b[0m\u001b[2;36m \u001b[0m\u001b[34mINFO    \u001b[0m Resolved project path as:                                              \u001b]8;id=834061;file://C:\\Machine-Learning\\Machine-Learning\\trabajo-semestral\\.venv\\Lib\\site-packages\\kedro\\ipython\\__init__.py\u001b\\\u001b[2m__init__.py\u001b[0m\u001b]8;;\u001b\\\u001b[2m:\u001b[0m\u001b]8;id=567026;file://C:\\Machine-Learning\\Machine-Learning\\trabajo-semestral\\.venv\\Lib\\site-packages\\kedro\\ipython\\__init__.py#180\u001b\\\u001b[2m180\u001b[0m\u001b]8;;\u001b\\\n",
       "\u001b[2;36m                    \u001b[0m         C:\\Machine-Learning\\Machine-Learning\\trabajo-semestral.                \u001b[2m               \u001b[0m\n",
       "\u001b[2;36m                    \u001b[0m         To set a different path, run \u001b[32m'%reload_kedro \u001b[0m\u001b[32m<\u001b[0m\u001b[32mproject_root\u001b[0m\u001b[32m>\u001b[0m\u001b[32m'\u001b[0m            \u001b[2m               \u001b[0m\n"
      ]
     },
     "metadata": {},
     "output_type": "display_data"
    },
    {
     "data": {
      "text/html": [
       "<pre style=\"white-space:pre;overflow-x:auto;line-height:normal;font-family:Menlo,'DejaVu Sans Mono',consolas,'Courier New',monospace\"><span style=\"color: #7fbfbf; text-decoration-color: #7fbfbf\">[09/04/25 21:43:16] </span><span style=\"color: #000080; text-decoration-color: #000080\">INFO    </span> Kedro is sending anonymous usage data with the sole purpose of improving <a href=\"file://C:\\Machine-Learning\\Machine-Learning\\trabajo-semestral\\.venv\\Lib\\site-packages\\kedro_telemetry\\plugin.py\" target=\"_blank\"><span style=\"color: #7f7f7f; text-decoration-color: #7f7f7f\">plugin.py</span></a><span style=\"color: #7f7f7f; text-decoration-color: #7f7f7f\">:</span><a href=\"file://C:\\Machine-Learning\\Machine-Learning\\trabajo-semestral\\.venv\\Lib\\site-packages\\kedro_telemetry\\plugin.py#243\" target=\"_blank\"><span style=\"color: #7f7f7f; text-decoration-color: #7f7f7f\">243</span></a>\n",
       "<span style=\"color: #7fbfbf; text-decoration-color: #7fbfbf\">                    </span>         the product. No personal data or IP addresses are stored on our side. To <span style=\"color: #7f7f7f; text-decoration-color: #7f7f7f\">             </span>\n",
       "<span style=\"color: #7fbfbf; text-decoration-color: #7fbfbf\">                    </span>         opt out, set the `KEDRO_DISABLE_TELEMETRY` or `DO_NOT_TRACK` environment <span style=\"color: #7f7f7f; text-decoration-color: #7f7f7f\">             </span>\n",
       "<span style=\"color: #7fbfbf; text-decoration-color: #7fbfbf\">                    </span>         variables, or create a `.telemetry` file in the current working          <span style=\"color: #7f7f7f; text-decoration-color: #7f7f7f\">             </span>\n",
       "<span style=\"color: #7fbfbf; text-decoration-color: #7fbfbf\">                    </span>         directory with the contents `consent: false`. To hide this message,      <span style=\"color: #7f7f7f; text-decoration-color: #7f7f7f\">             </span>\n",
       "<span style=\"color: #7fbfbf; text-decoration-color: #7fbfbf\">                    </span>         explicitly grant or deny consent. Read more at                           <span style=\"color: #7f7f7f; text-decoration-color: #7f7f7f\">             </span>\n",
       "<span style=\"color: #7fbfbf; text-decoration-color: #7fbfbf\">                    </span>         <span style=\"color: #0000ff; text-decoration-color: #0000ff; text-decoration: underline\">https://docs.kedro.org/en/stable/configuration/telemetry.html</span>            <span style=\"color: #7f7f7f; text-decoration-color: #7f7f7f\">             </span>\n",
       "</pre>\n"
      ],
      "text/plain": [
       "\u001b[2;36m[09/04/25 21:43:16]\u001b[0m\u001b[2;36m \u001b[0m\u001b[34mINFO    \u001b[0m Kedro is sending anonymous usage data with the sole purpose of improving \u001b]8;id=318721;file://C:\\Machine-Learning\\Machine-Learning\\trabajo-semestral\\.venv\\Lib\\site-packages\\kedro_telemetry\\plugin.py\u001b\\\u001b[2mplugin.py\u001b[0m\u001b]8;;\u001b\\\u001b[2m:\u001b[0m\u001b]8;id=412445;file://C:\\Machine-Learning\\Machine-Learning\\trabajo-semestral\\.venv\\Lib\\site-packages\\kedro_telemetry\\plugin.py#243\u001b\\\u001b[2m243\u001b[0m\u001b]8;;\u001b\\\n",
       "\u001b[2;36m                    \u001b[0m         the product. No personal data or IP addresses are stored on our side. To \u001b[2m             \u001b[0m\n",
       "\u001b[2;36m                    \u001b[0m         opt out, set the `KEDRO_DISABLE_TELEMETRY` or `DO_NOT_TRACK` environment \u001b[2m             \u001b[0m\n",
       "\u001b[2;36m                    \u001b[0m         variables, or create a `.telemetry` file in the current working          \u001b[2m             \u001b[0m\n",
       "\u001b[2;36m                    \u001b[0m         directory with the contents `consent: false`. To hide this message,      \u001b[2m             \u001b[0m\n",
       "\u001b[2;36m                    \u001b[0m         explicitly grant or deny consent. Read more at                           \u001b[2m             \u001b[0m\n",
       "\u001b[2;36m                    \u001b[0m         \u001b[4;94mhttps://docs.kedro.org/en/stable/configuration/telemetry.html\u001b[0m            \u001b[2m             \u001b[0m\n"
      ]
     },
     "metadata": {},
     "output_type": "display_data"
    },
    {
     "data": {
      "text/html": [
       "<pre style=\"white-space:pre;overflow-x:auto;line-height:normal;font-family:Menlo,'DejaVu Sans Mono',consolas,'Courier New',monospace\"><span style=\"color: #7fbfbf; text-decoration-color: #7fbfbf\">[09/04/25 21:43:17] </span><span style=\"color: #000080; text-decoration-color: #000080\">INFO    </span> Kedro project trabajo-semestral                                        <a href=\"file://C:\\Machine-Learning\\Machine-Learning\\trabajo-semestral\\.venv\\Lib\\site-packages\\kedro\\ipython\\__init__.py\" target=\"_blank\"><span style=\"color: #7f7f7f; text-decoration-color: #7f7f7f\">__init__.py</span></a><span style=\"color: #7f7f7f; text-decoration-color: #7f7f7f\">:</span><a href=\"file://C:\\Machine-Learning\\Machine-Learning\\trabajo-semestral\\.venv\\Lib\\site-packages\\kedro\\ipython\\__init__.py#146\" target=\"_blank\"><span style=\"color: #7f7f7f; text-decoration-color: #7f7f7f\">146</span></a>\n",
       "</pre>\n"
      ],
      "text/plain": [
       "\u001b[2;36m[09/04/25 21:43:17]\u001b[0m\u001b[2;36m \u001b[0m\u001b[34mINFO    \u001b[0m Kedro project trabajo-semestral                                        \u001b]8;id=510688;file://C:\\Machine-Learning\\Machine-Learning\\trabajo-semestral\\.venv\\Lib\\site-packages\\kedro\\ipython\\__init__.py\u001b\\\u001b[2m__init__.py\u001b[0m\u001b]8;;\u001b\\\u001b[2m:\u001b[0m\u001b]8;id=949367;file://C:\\Machine-Learning\\Machine-Learning\\trabajo-semestral\\.venv\\Lib\\site-packages\\kedro\\ipython\\__init__.py#146\u001b\\\u001b[2m146\u001b[0m\u001b]8;;\u001b\\\n"
      ]
     },
     "metadata": {},
     "output_type": "display_data"
    },
    {
     "data": {
      "text/html": [
       "<pre style=\"white-space:pre;overflow-x:auto;line-height:normal;font-family:Menlo,'DejaVu Sans Mono',consolas,'Courier New',monospace\"><span style=\"color: #7fbfbf; text-decoration-color: #7fbfbf\">                    </span><span style=\"color: #000080; text-decoration-color: #000080\">INFO    </span> Defined global variable <span style=\"color: #008000; text-decoration-color: #008000\">'context'</span>, <span style=\"color: #008000; text-decoration-color: #008000\">'session'</span>, <span style=\"color: #008000; text-decoration-color: #008000\">'catalog'</span> and            <a href=\"file://C:\\Machine-Learning\\Machine-Learning\\trabajo-semestral\\.venv\\Lib\\site-packages\\kedro\\ipython\\__init__.py\" target=\"_blank\"><span style=\"color: #7f7f7f; text-decoration-color: #7f7f7f\">__init__.py</span></a><span style=\"color: #7f7f7f; text-decoration-color: #7f7f7f\">:</span><a href=\"file://C:\\Machine-Learning\\Machine-Learning\\trabajo-semestral\\.venv\\Lib\\site-packages\\kedro\\ipython\\__init__.py#147\" target=\"_blank\"><span style=\"color: #7f7f7f; text-decoration-color: #7f7f7f\">147</span></a>\n",
       "<span style=\"color: #7fbfbf; text-decoration-color: #7fbfbf\">                    </span>         <span style=\"color: #008000; text-decoration-color: #008000\">'pipelines'</span>                                                            <span style=\"color: #7f7f7f; text-decoration-color: #7f7f7f\">               </span>\n",
       "</pre>\n"
      ],
      "text/plain": [
       "\u001b[2;36m                   \u001b[0m\u001b[2;36m \u001b[0m\u001b[34mINFO    \u001b[0m Defined global variable \u001b[32m'context'\u001b[0m, \u001b[32m'session'\u001b[0m, \u001b[32m'catalog'\u001b[0m and            \u001b]8;id=49729;file://C:\\Machine-Learning\\Machine-Learning\\trabajo-semestral\\.venv\\Lib\\site-packages\\kedro\\ipython\\__init__.py\u001b\\\u001b[2m__init__.py\u001b[0m\u001b]8;;\u001b\\\u001b[2m:\u001b[0m\u001b]8;id=99375;file://C:\\Machine-Learning\\Machine-Learning\\trabajo-semestral\\.venv\\Lib\\site-packages\\kedro\\ipython\\__init__.py#147\u001b\\\u001b[2m147\u001b[0m\u001b]8;;\u001b\\\n",
       "\u001b[2;36m                    \u001b[0m         \u001b[32m'pipelines'\u001b[0m                                                            \u001b[2m               \u001b[0m\n"
      ]
     },
     "metadata": {},
     "output_type": "display_data"
    },
    {
     "data": {
      "text/html": [
       "<pre style=\"white-space:pre;overflow-x:auto;line-height:normal;font-family:Menlo,'DejaVu Sans Mono',consolas,'Courier New',monospace\"><span style=\"color: #7fbfbf; text-decoration-color: #7fbfbf\">[09/04/25 21:43:19] </span><span style=\"color: #000080; text-decoration-color: #000080\">INFO    </span> Registered line magic <span style=\"color: #008000; text-decoration-color: #008000\">'run_viz'</span>                                        <a href=\"file://C:\\Machine-Learning\\Machine-Learning\\trabajo-semestral\\.venv\\Lib\\site-packages\\kedro\\ipython\\__init__.py\" target=\"_blank\"><span style=\"color: #7f7f7f; text-decoration-color: #7f7f7f\">__init__.py</span></a><span style=\"color: #7f7f7f; text-decoration-color: #7f7f7f\">:</span><a href=\"file://C:\\Machine-Learning\\Machine-Learning\\trabajo-semestral\\.venv\\Lib\\site-packages\\kedro\\ipython\\__init__.py#153\" target=\"_blank\"><span style=\"color: #7f7f7f; text-decoration-color: #7f7f7f\">153</span></a>\n",
       "</pre>\n"
      ],
      "text/plain": [
       "\u001b[2;36m[09/04/25 21:43:19]\u001b[0m\u001b[2;36m \u001b[0m\u001b[34mINFO    \u001b[0m Registered line magic \u001b[32m'run_viz'\u001b[0m                                        \u001b]8;id=582963;file://C:\\Machine-Learning\\Machine-Learning\\trabajo-semestral\\.venv\\Lib\\site-packages\\kedro\\ipython\\__init__.py\u001b\\\u001b[2m__init__.py\u001b[0m\u001b]8;;\u001b\\\u001b[2m:\u001b[0m\u001b]8;id=175251;file://C:\\Machine-Learning\\Machine-Learning\\trabajo-semestral\\.venv\\Lib\\site-packages\\kedro\\ipython\\__init__.py#153\u001b\\\u001b[2m153\u001b[0m\u001b]8;;\u001b\\\n"
      ]
     },
     "metadata": {},
     "output_type": "display_data"
    }
   ],
   "source": [
    "%load_ext kedro.ipython\n"
   ]
  },
  {
   "cell_type": "code",
   "execution_count": 2,
   "id": "d9286e98-b454-41bb-a38b-e9592c39a57a",
   "metadata": {
    "scrolled": true
   },
   "outputs": [
    {
     "data": {
      "text/html": [
       "<pre style=\"white-space:pre;overflow-x:auto;line-height:normal;font-family:Menlo,'DejaVu Sans Mono',consolas,'Courier New',monospace\"></pre>\n"
      ],
      "text/plain": []
     },
     "metadata": {},
     "output_type": "display_data"
    },
    {
     "data": {
      "text/plain": [
       "\n",
       "\u001b[1m[\u001b[0m\n",
       "    \u001b[32m'artists'\u001b[0m,\n",
       "    \u001b[32m'playlists'\u001b[0m,\n",
       "    \u001b[32m'tracks'\u001b[0m,\n",
       "    \u001b[32m'main_dataset'\u001b[0m,\n",
       "    \u001b[32m'music_genres'\u001b[0m,\n",
       "    \u001b[32m'music_vibes'\u001b[0m,\n",
       "    \u001b[32m'preprocessed_artists'\u001b[0m,\n",
       "    \u001b[32m'preprocessed_tracks'\u001b[0m,\n",
       "    \u001b[32m'preprocessed_playlists'\u001b[0m,\n",
       "    \u001b[32m'preprocessed_main_dataset'\u001b[0m,\n",
       "    \u001b[32m'model_input_table'\u001b[0m,\n",
       "    \u001b[32m'audio_features'\u001b[0m,\n",
       "    \u001b[32m'track_metadata'\u001b[0m,\n",
       "    \u001b[32m'audio_features_engineered'\u001b[0m,\n",
       "    \u001b[32m'popularity_features'\u001b[0m,\n",
       "    \u001b[32m'genre_features'\u001b[0m,\n",
       "    \u001b[32m'train_data'\u001b[0m,\n",
       "    \u001b[32m'validation_data'\u001b[0m,\n",
       "    \u001b[32m'test_data'\u001b[0m,\n",
       "    \u001b[32m'recommendation_model'\u001b[0m,\n",
       "    \u001b[32m'genre_classifier'\u001b[0m,\n",
       "    \u001b[32m'popularity_predictor'\u001b[0m,\n",
       "    \u001b[32m'recommendation_predictions'\u001b[0m,\n",
       "    \u001b[32m'genre_predictions'\u001b[0m,\n",
       "    \u001b[32m'popularity_predictions'\u001b[0m,\n",
       "    \u001b[32m'model_metrics'\u001b[0m,\n",
       "    \u001b[32m'genre_distribution_plot'\u001b[0m,\n",
       "    \u001b[32m'audio_features_plot'\u001b[0m,\n",
       "    \u001b[32m'confusion_matrix_plot'\u001b[0m,\n",
       "    \u001b[32m'popularity_trends_plot'\u001b[0m,\n",
       "    \u001b[32m'model_performance_report'\u001b[0m,\n",
       "    \u001b[32m'temporal_features'\u001b[0m,\n",
       "    \u001b[32m'parameters'\u001b[0m,\n",
       "    \u001b[32m'params:data_splitting'\u001b[0m,\n",
       "    \u001b[32m'params:data_splitting.test_size'\u001b[0m,\n",
       "    \u001b[32m'params:data_splitting.validation_size'\u001b[0m,\n",
       "    \u001b[32m'params:data_splitting.random_state'\u001b[0m,\n",
       "    \u001b[32m'params:models'\u001b[0m,\n",
       "    \u001b[32m'params:models.recommendation'\u001b[0m,\n",
       "    \u001b[32m'params:models.recommendation.n_clusters'\u001b[0m,\n",
       "    \u001b[32m'params:models.recommendation.random_state'\u001b[0m,\n",
       "    \u001b[32m'params:models.genre_classifier'\u001b[0m,\n",
       "    \u001b[32m'params:models.genre_classifier.n_estimators'\u001b[0m,\n",
       "    \u001b[32m'params:models.genre_classifier.max_depth'\u001b[0m,\n",
       "    \u001b[32m'params:models.genre_classifier.min_samples_split'\u001b[0m,\n",
       "    \u001b[32m'params:models.genre_classifier.random_state'\u001b[0m,\n",
       "    \u001b[32m'params:models.popularity_predictor'\u001b[0m,\n",
       "    \u001b[32m'params:models.popularity_predictor.n_estimators'\u001b[0m,\n",
       "    \u001b[32m'params:models.popularity_predictor.max_depth'\u001b[0m,\n",
       "    \u001b[32m'params:models.popularity_predictor.min_samples_split'\u001b[0m,\n",
       "    \u001b[32m'params:models.popularity_predictor.random_state'\u001b[0m,\n",
       "    \u001b[32m'params:audio_features'\u001b[0m,\n",
       "    \u001b[32m'params:main_genres'\u001b[0m,\n",
       "    \u001b[32m'params:visualizations'\u001b[0m,\n",
       "    \u001b[32m'params:visualizations.max_samples'\u001b[0m,\n",
       "    \u001b[32m'params:visualizations.figure_size'\u001b[0m,\n",
       "    \u001b[32m'params:visualizations.dpi'\u001b[0m,\n",
       "    \u001b[32m'params:reporting'\u001b[0m,\n",
       "    \u001b[32m'params:reporting.include_examples'\u001b[0m,\n",
       "    \u001b[32m'params:reporting.save_plots'\u001b[0m,\n",
       "    \u001b[32m'params:reporting.generate_summary'\u001b[0m\n",
       "\u001b[1m]\u001b[0m"
      ]
     },
     "execution_count": 2,
     "metadata": {},
     "output_type": "execute_result"
    }
   ],
   "source": [
    "catalog.keys()"
   ]
  },
  {
   "cell_type": "code",
   "execution_count": null,
   "id": "d41a6f08-a896-4005-97bd-6e7adc34d4f4",
   "metadata": {},
   "outputs": [],
   "source": []
  }
 ],
 "metadata": {
  "kernelspec": {
   "display_name": "Python 3 (ipykernel)",
   "language": "python",
   "name": "python3"
  },
  "language_info": {
   "codemirror_mode": {
    "name": "ipython",
    "version": 3
   },
   "file_extension": ".py",
   "mimetype": "text/x-python",
   "name": "python",
   "nbconvert_exporter": "python",
   "pygments_lexer": "ipython3",
   "version": "3.12.10"
  }
 },
 "nbformat": 4,
 "nbformat_minor": 5
}
